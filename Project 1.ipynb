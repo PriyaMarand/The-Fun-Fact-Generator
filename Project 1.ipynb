{
 "cells": [
  {
   "cell_type": "markdown",
   "id": "847eedc0-99a8-49cf-8200-945ab9c32fc8",
   "metadata": {},
   "source": [
    "# The Fun Fact Generator"
   ]
  },
  {
   "cell_type": "markdown",
   "id": "b61ee037-a8ab-4dad-901d-16813779d829",
   "metadata": {},
   "source": [
    "### This is an interactive Python project that uses the PyWebIO framework to create a simple web-based application. The purpose of the project is to display random fun facts to the user at the click of a button. The facts are fetched from an external API (https://uselessfacts.jsph.pl) in real-time, ensuring that users receive fresh and interesting information each time they interact with the app.\n",
    "\n",
    "### This project demonstrates how Python can be used to integrate with external APIs and build lightweight, user-friendly web applications without relying on complex frontend technologies."
   ]
  },
  {
   "cell_type": "markdown",
   "id": "efa44029-4ed9-446e-9478-edea7131db86",
   "metadata": {},
   "source": [
    "# Objectives\n",
    "\n",
    "## The main objectives of this project are:\n",
    "+ To build a simple and interactive web application using Python and PyWebIO.\n",
    "+ To demonstrate how to fetch and process data from a REST API.\n",
    "+ To enhance user engagement by providing new information with every click.\n",
    "+ To practice modular programming with well-structured code."
   ]
  },
  {
   "cell_type": "markdown",
   "id": "4b201258-fb55-49de-a4a2-c37916643d0f",
   "metadata": {},
   "source": [
    "# Features\n",
    "\n",
    "### The Fun Fact Generator comes with the following features:\n",
    "\n",
    "+ 🎯Interactive User Interface: Built using PyWebIO, the interface is clean and easy to use.\n",
    "+ 🌍Real-time Fun Facts: Fetches random facts dynamically from an external API.\n",
    "+ 🎨Styled Display: Facts are displayed in blue with larger font size for better readability.\n",
    "+ 🔄Repeat Functionality: Users can click the “Click me” button multiple times to generate new fun facts.\n",
    "+ ⚡Lightweight & Fast: The app runs smoothly without requiring heavy backend or frontend frameworks."
   ]
  },
  {
   "cell_type": "code",
   "execution_count": 1,
   "id": "c499ef76-2989-4ec9-b622-ad95ae909e41",
   "metadata": {},
   "outputs": [
    {
     "name": "stdout",
     "output_type": "stream",
     "text": [
      "Collecting pywebio\n",
      "  Downloading pywebio-1.8.4.tar.gz (1.4 MB)\n",
      "     ---------------------------------------- 0.0/1.4 MB ? eta -:--:--\n",
      "     ---------------------------------------- 0.0/1.4 MB ? eta -:--:--\n",
      "      --------------------------------------- 0.0/1.4 MB 325.1 kB/s eta 0:00:05\n",
      "     ----- ---------------------------------- 0.2/1.4 MB 1.6 MB/s eta 0:00:01\n",
      "     ---------------- ----------------------- 0.6/1.4 MB 3.3 MB/s eta 0:00:01\n",
      "     ------------------------- -------------- 0.9/1.4 MB 4.4 MB/s eta 0:00:01\n",
      "     ------------------------- -------------- 0.9/1.4 MB 4.4 MB/s eta 0:00:01\n",
      "     ----------------------------------- ---- 1.3/1.4 MB 4.1 MB/s eta 0:00:01\n",
      "     ------------------------------------- -- 1.3/1.4 MB 3.9 MB/s eta 0:00:01\n",
      "     ---------------------------------------  1.4/1.4 MB 3.5 MB/s eta 0:00:01\n",
      "     ---------------------------------------- 1.4/1.4 MB 3.3 MB/s eta 0:00:00\n",
      "  Preparing metadata (setup.py): started\n",
      "  Preparing metadata (setup.py): finished with status 'done'\n",
      "Requirement already satisfied: tornado>=5.0 in c:\\users\\priya\\anaconda3\\anakonda\\lib\\site-packages (from pywebio) (6.4.1)\n",
      "Collecting user-agents (from pywebio)\n",
      "  Downloading user_agents-2.2.0-py3-none-any.whl.metadata (7.9 kB)\n",
      "Collecting ua-parser>=0.10.0 (from user-agents->pywebio)\n",
      "  Downloading ua_parser-1.0.1-py3-none-any.whl.metadata (5.6 kB)\n",
      "Collecting ua-parser-builtins (from ua-parser>=0.10.0->user-agents->pywebio)\n",
      "  Downloading ua_parser_builtins-0.18.0.post1-py3-none-any.whl.metadata (1.4 kB)\n",
      "Downloading user_agents-2.2.0-py3-none-any.whl (9.6 kB)\n",
      "Downloading ua_parser-1.0.1-py3-none-any.whl (31 kB)\n",
      "Downloading ua_parser_builtins-0.18.0.post1-py3-none-any.whl (86 kB)\n",
      "   ---------------------------------------- 0.0/86.1 kB ? eta -:--:--\n",
      "   ---------------------------------------- 86.1/86.1 kB ? eta 0:00:00\n",
      "Building wheels for collected packages: pywebio\n",
      "  Building wheel for pywebio (setup.py): started\n",
      "  Building wheel for pywebio (setup.py): finished with status 'done'\n",
      "  Created wheel for pywebio: filename=pywebio-1.8.4-py3-none-any.whl size=1453504 sha256=d04994face53eaca019dff0f0a9fa2c6b2d4519bed1b8b64a61995f079d450a1\n",
      "  Stored in directory: c:\\users\\priya\\appdata\\local\\pip\\cache\\wheels\\42\\20\\82\\b3faa9b76112db87ad8c0f8a3d54341535d26ffea1722e0899\n",
      "Successfully built pywebio\n",
      "Installing collected packages: ua-parser-builtins, ua-parser, user-agents, pywebio\n",
      "Successfully installed pywebio-1.8.4 ua-parser-1.0.1 ua-parser-builtins-0.18.0.post1 user-agents-2.2.0\n",
      "Note: you may need to restart the kernel to use updated packages.\n"
     ]
    }
   ],
   "source": [
    "pip install pywebio"
   ]
  },
  {
   "cell_type": "markdown",
   "id": "6d24e2e2-200f-43a5-8c43-4c25366dc132",
   "metadata": {},
   "source": [
    "### Import the necessary modules"
   ]
  },
  {
   "cell_type": "code",
   "execution_count": 1,
   "id": "7c911262-96fa-453d-b5bb-12bbff7788f4",
   "metadata": {},
   "outputs": [],
   "source": [
    "# Import the necessary modules\n",
    "import json\n",
    "import requests\n",
    "from pywebio.input import *\n",
    "from pywebio.output import *\n",
    "from pywebio.session import *\n",
    "\n",
    "def get_fun_fact(_):\n",
    "    # Clear the screen\n",
    "    clear()\n",
    "    \n",
    "    # Put HTML content for the fun fact generator header\n",
    "    put_html(\n",
    "        '<p align=\"left\">'\n",
    "        '<h2><img src=\"https://media.geeksforgeeks.org/wp-content/uploads/20210720224119/MessagingHappyicon.png\" width=\"7%\"> Fun Fact Generator</h2>'\n",
    "        '</p>'\n",
    "    )\n",
    "    \n",
    "    # URL from where we will fetch the data\n",
    "    url = \"https://uselessfacts.jsph.pl/random.json?language=en\"\n",
    "    \n",
    "    # Use GET request\n",
    "    response = requests.get(url)\n",
    "    \n",
    "    # Load the request in json file\n",
    "    data = json.loads(response.text)\n",
    "    \n",
    "    # We will need 'text' from the data\n",
    "    useless_fact = data['text']\n",
    "    \n",
    "    # Put the fact in blue color and increase the font size\n",
    "    style(put_text(useless_fact), 'color:blue; font-size: 30px')\n",
    "    \n",
    "    # Put the \"Click me\" button\n",
    "    put_buttons(\n",
    "        [dict(label='Click me', value='outline-success', color='outline-success')],\n",
    "        onclick=get_fun_fact\n",
    "    )\n",
    "\n",
    "# Driver Function\n",
    "if __name__ == '__main__':\n",
    "    # Put a heading \"Fun Fact Generator\"\n",
    "    put_html(\n",
    "        '<p align=\"left\">'\n",
    "        '<h2><img src=\"https://media.geeksforgeeks.org/wp-content/uploads/20210720224119/MessagingHappyicon.png\" width=\"7%\"> Fun Fact Generator</h2>'\n",
    "        '</p>'\n",
    "    )\n",
    "    \n",
    "    # Hold the session for a long time and put the \"Click me\" button\n",
    "    put_buttons(\n",
    "        [dict(label='Click me', value='outline-success', color='outline-success')],\n",
    "        onclick=get_fun_fact\n",
    "    )\n",
    "    hold()"
   ]
  },
  {
   "cell_type": "markdown",
   "id": "15ecf23e-d5ff-4103-842a-9b911e5f8483",
   "metadata": {},
   "source": [
    "# Conclusion\n",
    "\n",
    "### The Fun Fact Generator demonstrates how a simple idea can be transformed into an engaging application using Python. By combining API integration with PyWebIO’s interactive interface, the project offers a seamless experience to users who enjoy learning new and quirky facts."
   ]
  }
 ],
 "metadata": {
  "kernelspec": {
   "display_name": "Python 3 (ipykernel)",
   "language": "python",
   "name": "python3"
  },
  "language_info": {
   "codemirror_mode": {
    "name": "ipython",
    "version": 3
   },
   "file_extension": ".py",
   "mimetype": "text/x-python",
   "name": "python",
   "nbconvert_exporter": "python",
   "pygments_lexer": "ipython3",
   "version": "3.12.4"
  }
 },
 "nbformat": 4,
 "nbformat_minor": 5
}
